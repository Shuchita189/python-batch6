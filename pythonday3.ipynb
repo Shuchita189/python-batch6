{
 "cells": [
  {
   "cell_type": "code",
   "execution_count": 4,
   "metadata": {},
   "outputs": [
    {
     "name": "stdout",
     "output_type": "stream",
     "text": [
      "enter the value8\n",
      "sum of first 8 natural numbers is: 36\n"
     ]
    }
   ],
   "source": [
    "num=int(input(\"enter the value\"))\n",
    "hold=num\n",
    "sum=0\n",
    "if num<=0:\n",
    "    print(\" enter the whole positive number\")\n",
    "else:\n",
    "    while num>0:\n",
    "     sum=sum+num\n",
    "     num=num-1;\n",
    "    print(\"sum of first\",hold,\"natural numbers is:\",sum)\n"
   ]
  },
  {
   "cell_type": "code",
   "execution_count": 8,
   "metadata": {},
   "outputs": [
    {
     "name": "stdout",
     "output_type": "stream",
     "text": [
      "15 is  a prime number\n",
      "15 is  a prime number\n"
     ]
    }
   ],
   "source": [
    "num=15\n",
    "if num>1:\n",
    "    for i in range(2,num//2):\n",
    "        if (num%i)==0:\n",
    "            print(num,\"is  a prime number\")\n",
    "            \n",
    "            \n",
    "        \n",
    "            \n",
    "                \n",
    "    "
   ]
  },
  {
   "cell_type": "code",
   "execution_count": null,
   "metadata": {},
   "outputs": [],
   "source": []
  },
  {
   "cell_type": "code",
   "execution_count": null,
   "metadata": {},
   "outputs": [],
   "source": []
  }
 ],
 "metadata": {
  "kernelspec": {
   "display_name": "Python 3",
   "language": "python",
   "name": "python3"
  },
  "language_info": {
   "codemirror_mode": {
    "name": "ipython",
    "version": 3
   },
   "file_extension": ".py",
   "mimetype": "text/x-python",
   "name": "python",
   "nbconvert_exporter": "python",
   "pygments_lexer": "ipython3",
   "version": "3.7.6"
  }
 },
 "nbformat": 4,
 "nbformat_minor": 4
}
